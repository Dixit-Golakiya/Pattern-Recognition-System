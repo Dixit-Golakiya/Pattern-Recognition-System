{
 "cells": [
  {
   "cell_type": "markdown",
   "id": "1abcc6b1",
   "metadata": {},
   "source": [
    "**Pattern Recognition System**"
   ]
  },
  {
   "cell_type": "code",
   "execution_count": 1,
   "id": "89c66dec",
   "metadata": {},
   "outputs": [],
   "source": [
    "# Import library\n",
    "\n",
    "from sklearn.neighbors import KNeighborsClassifier\n",
    "from sklearn.model_selection import train_test_split\n",
    "from sklearn.metrics import accuracy_score\n",
    "from skimage.feature import hog\n",
    "\n",
    "from sklearn import metrics\n",
    "import cv2\n",
    "import numpy as np\n",
    "import os\n",
    "import glob\n",
    "from PIL import Image\n",
    "import matplotlib.pyplot as plt"
   ]
  },
  {
   "cell_type": "markdown",
   "id": "7a98a7ba",
   "metadata": {},
   "source": [
    "Import training data"
   ]
  },
  {
   "cell_type": "code",
   "execution_count": 2,
   "id": "9965b5cb",
   "metadata": {},
   "outputs": [],
   "source": [
    "root_dir = \"ROI_1\"\n",
    "\n",
    "# Initialize lists to store the image data and labels\n",
    "image_data = []\n",
    "image_labels = []\n",
    "\n",
    "# Iterate through all subfolders in the root directory\n",
    "for subfolder in os.listdir(root_dir):\n",
    "    subfolder_path = os.path.join(root_dir, subfolder)\n",
    "    if os.path.isdir(subfolder_path):\n",
    "        # Get all the image file paths in the current subfolder\n",
    "        image_paths = glob.glob(os.path.join(subfolder_path, '*.jpg'))\n",
    "        for image_path in image_paths:\n",
    "            # Open the image and store its data\n",
    "            img = Image.open(image_path)\n",
    "            image_data.append(np.array(img))\n",
    "            # Store the label of the image as the subfolder name\n",
    "            image_labels.append(subfolder)\n",
    "\n",
    "# Convert the lists to arrays\n",
    "X = np.array(image_data)\n",
    "y = np.array(image_labels)\n"
   ]
  },
  {
   "cell_type": "markdown",
   "id": "5cd515d8",
   "metadata": {},
   "source": [
    "Extracting HOG feature"
   ]
  },
  {
   "cell_type": "code",
   "execution_count": 3,
   "id": "6bdc0e69",
   "metadata": {},
   "outputs": [],
   "source": [
    "X_hog = []\n",
    "for img in X:\n",
    "    hog_features = hog(img, orientations=9, pixels_per_cell=(8, 8),\n",
    "                       cells_per_block=(2, 2), block_norm='L2')\n",
    "    X_hog.append(hog_features)\n",
    "X_hog = np.array(X_hog)"
   ]
  },
  {
   "cell_type": "markdown",
   "id": "73389beb",
   "metadata": {},
   "source": [
    "Split the data: 80% Training and 20% Test"
   ]
  },
  {
   "cell_type": "code",
   "execution_count": 4,
   "id": "dd97671a",
   "metadata": {},
   "outputs": [],
   "source": [
    "X_train, X_test, y_train, y_test = train_test_split(X_hog, y, test_size=0.2)"
   ]
  },
  {
   "cell_type": "markdown",
   "id": "8cdcfcf2",
   "metadata": {},
   "source": [
    "Create KNN model"
   ]
  },
  {
   "cell_type": "code",
   "execution_count": 5,
   "id": "a3db6288",
   "metadata": {},
   "outputs": [
    {
     "data": {
      "text/plain": [
       "KNeighborsClassifier(n_neighbors=1)"
      ]
     },
     "execution_count": 5,
     "metadata": {},
     "output_type": "execute_result"
    }
   ],
   "source": [
    "# Create the KNN model\n",
    "knn = KNeighborsClassifier(n_neighbors=1)\n",
    "\n",
    "# Fit the model to the training data\n",
    "knn.fit(X_train, y_train)"
   ]
  },
  {
   "cell_type": "markdown",
   "id": "4b619709",
   "metadata": {},
   "source": [
    "Test 20% data"
   ]
  },
  {
   "cell_type": "code",
   "execution_count": 6,
   "id": "870ca23b",
   "metadata": {},
   "outputs": [
    {
     "name": "stdout",
     "output_type": "stream",
     "text": [
      "Accuracy: 0.9\n"
     ]
    },
    {
     "name": "stderr",
     "output_type": "stream",
     "text": [
      "C:\\Users\\Asus\\anaconda3\\lib\\site-packages\\sklearn\\neighbors\\_classification.py:228: FutureWarning: Unlike other reduction functions (e.g. `skew`, `kurtosis`), the default behavior of `mode` typically preserves the axis it acts along. In SciPy 1.11.0, this behavior will change: the default value of `keepdims` will become False, the `axis` over which the statistic is taken will be eliminated, and the value None will no longer be accepted. Set `keepdims` to True or False to avoid this warning.\n",
      "  mode, _ = stats.mode(_y[neigh_ind, k], axis=1)\n"
     ]
    }
   ],
   "source": [
    "# Make predictions on the test set\n",
    "y_pred = knn.predict(X_test)\n",
    "\n",
    "# Calculate the accuracy of the model\n",
    "acc = accuracy_score(y_test, y_pred)\n",
    "print(\"Accuracy:\", acc)\n"
   ]
  },
  {
   "cell_type": "markdown",
   "id": "14d628fd",
   "metadata": {},
   "source": [
    "Plot Confusion matrix"
   ]
  },
  {
   "cell_type": "code",
   "execution_count": 7,
   "id": "e32d98e7",
   "metadata": {},
   "outputs": [
    {
     "data": {
      "image/png": "[encoded data removed]",
      "text/plain": [
       "<Figure size 640x480 with 2 Axes>"
      ]
     },
     "metadata": {},
     "output_type": "display_data"
    }
   ],
   "source": [
    "confusion_matrix = metrics.confusion_matrix(y_test, y_pred)\n",
    "cm_display = metrics.ConfusionMatrixDisplay(confusion_matrix = confusion_matrix, display_labels = ['Ballon', 'No Ballon'])\n",
    "\n",
    "cm_display.plot()\n",
    "plt.show()"
   ]
  },
  {
   "cell_type": "markdown",
   "id": "183ab3e0",
   "metadata": {},
   "source": [
    "Now import new data for verification"
   ]
  },
  {
   "cell_type": "code",
   "execution_count": 8,
   "id": "4c180a30",
   "metadata": {},
   "outputs": [],
   "source": [
    "folder_path = \"ROI_2\"\n",
    "\n",
    "new_image_data = []\n",
    "\n",
    "# Get all the image file paths in the folder\n",
    "image_paths = glob.glob(os.path.join(folder_path, '*.jpg'))\n",
    "for image_path in image_paths:\n",
    "    # Open the image and store its data\n",
    "    img = Image.open(image_path)\n",
    "    new_image_data.append(np.array(img))\n",
    "\n",
    "# Convert the list to an array\n",
    "new_data = np.array(new_image_data)"
   ]
  },
  {
   "cell_type": "markdown",
   "id": "bece0dc9",
   "metadata": {},
   "source": [
    "Extracting HOG feature from new data"
   ]
  },
  {
   "cell_type": "code",
   "execution_count": 9,
   "id": "b06fd7fc",
   "metadata": {},
   "outputs": [],
   "source": [
    "new_data_hog = []\n",
    "for img in new_data:\n",
    "    hog_features = hog(img, orientations=9, pixels_per_cell=(8, 8),\n",
    "                       cells_per_block=(2, 2), block_norm='L2')\n",
    "    new_data_hog.append(hog_features)\n",
    "new_data_hog = np.array(new_data_hog)"
   ]
  },
  {
   "cell_type": "markdown",
   "id": "f5b6afcf",
   "metadata": {},
   "source": [
    "Predict the label of new image data"
   ]
  },
  {
   "cell_type": "code",
   "execution_count": 10,
   "id": "43181b86",
   "metadata": {},
   "outputs": [
    {
     "name": "stderr",
     "output_type": "stream",
     "text": [
      "C:\\Users\\Asus\\anaconda3\\lib\\site-packages\\sklearn\\neighbors\\_classification.py:228: FutureWarning: Unlike other reduction functions (e.g. `skew`, `kurtosis`), the default behavior of `mode` typically preserves the axis it acts along. In SciPy 1.11.0, this behavior will change: the default value of `keepdims` will become False, the `axis` over which the statistic is taken will be eliminated, and the value None will no longer be accepted. Set `keepdims` to True or False to avoid this warning.\n",
      "  mode, _ = stats.mode(_y[neigh_ind, k], axis=1)\n"
     ]
    }
   ],
   "source": [
    "predictions = knn.predict(new_data_hog)"
   ]
  },
  {
   "cell_type": "markdown",
   "id": "f9befe1e",
   "metadata": {},
   "source": [
    "Print the label against the each image"
   ]
  },
  {
   "cell_type": "code",
   "execution_count": 11,
   "id": "443bc647",
   "metadata": {},
   "outputs": [
    {
     "name": "stdout",
     "output_type": "stream",
     "text": [
      "Prediction for image 1: Ballon\n",
      "Prediction for image 2: Ballon\n",
      "Prediction for image 3: Ballon\n",
      "Prediction for image 4: Ballon\n",
      "Prediction for image 5: Ballon\n",
      "Prediction for image 6: No Ballon\n",
      "Prediction for image 7: Ballon\n",
      "Prediction for image 8: No Ballon\n",
      "Prediction for image 9: Ballon\n",
      "Prediction for image 10: Ballon\n",
      "Prediction for image 11: Ballon\n",
      "Prediction for image 12: Ballon\n",
      "Prediction for image 13: Ballon\n",
      "Prediction for image 14: Ballon\n",
      "Prediction for image 15: Ballon\n",
      "Prediction for image 16: Ballon\n",
      "Prediction for image 17: Ballon\n",
      "Prediction for image 18: Ballon\n",
      "Prediction for image 19: Ballon\n",
      "Prediction for image 20: Ballon\n",
      "Prediction for image 21: Ballon\n",
      "Prediction for image 22: Ballon\n",
      "Prediction for image 23: Ballon\n",
      "Prediction for image 24: Ballon\n",
      "Prediction for image 25: Ballon\n",
      "Prediction for image 26: Ballon\n",
      "Prediction for image 27: Ballon\n",
      "Prediction for image 28: Ballon\n",
      "Prediction for image 29: Ballon\n",
      "Prediction for image 30: Ballon\n",
      "Prediction for image 31: Ballon\n",
      "Prediction for image 32: Ballon\n",
      "Prediction for image 33: No Ballon\n",
      "Prediction for image 34: Ballon\n",
      "Prediction for image 35: Ballon\n",
      "Prediction for image 36: Ballon\n",
      "Prediction for image 37: Ballon\n",
      "Prediction for image 38: Ballon\n",
      "Prediction for image 39: Ballon\n",
      "Prediction for image 40: No Ballon\n",
      "Prediction for image 41: Ballon\n",
      "Prediction for image 42: No Ballon\n",
      "Prediction for image 43: Ballon\n",
      "Prediction for image 44: Ballon\n"
     ]
    }
   ],
   "source": [
    "for i, pred in enumerate(predictions):\n",
    "    print(\"Prediction for image {}: {}\".format(i+1, pred))"
   ]
  }
 ],
 "metadata": {
  "kernelspec": {
   "display_name": "Python 3 (ipykernel)",
   "language": "python",
   "name": "python3"
  },
  "language_info": {
   "codemirror_mode": {
    "name": "ipython",
    "version": 3
   },
   "file_extension": ".py",
   "mimetype": "text/x-python",
   "name": "python",
   "nbconvert_exporter": "python",
   "pygments_lexer": "ipython3",
   "version": "3.9.13"
  }
 },
 "nbformat": 4,
 "nbformat_minor": 5
}
